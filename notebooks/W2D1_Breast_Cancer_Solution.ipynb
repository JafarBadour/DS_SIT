{
 "cells": [
  {
   "cell_type": "markdown",
   "metadata": {
    "id": "of3HGFCW2ii7"
   },
   "source": [
    "<a id='Q0'></a>\n",
    "<center><a target=\"_blank\" href=\"http://www.propulsion.academy\"><img src=\"https://drive.google.com/uc?id=1McNxpNrSwfqu1w-QtlOmPSmfULvkkMQV\" width=\"200\" style=\"background:none; border:none; box-shadow:none;\" /></a> </center>\n",
    "<center> <h4 style=\"color:#303030\"> Python for Data Science, Homework, template: </h4> </center>\n",
    "<center> <h1 style=\"color:#303030\">Simplified Breast Cancer Selection</h1> </center>\n",
    "<p style=\"margin-bottom:1cm;\"></p>\n",
    "<center style=\"color:#303030\"><h4>Propulsion Academy, 2021</h4></center>\n",
    "<p style=\"margin-bottom:1cm;\"></p>\n",
    "\n",
    "<div style=\"background:#EEEDF5;border-top:0.1cm solid #EF475B;border-bottom:0.1cm solid #EF475B;\">\n",
    "    <div style=\"margin-left: 0.5cm;margin-top: 0.5cm;margin-bottom: 0.5cm\">\n",
    "        <p><strong>Goal:</strong> Practice binary classification on Breast Cancer data</p>\n",
    "        <strong> Sections:</strong>\n",
    "        <a id=\"P0\" name=\"P0\"></a>\n",
    "        <ol>\n",
    "            <li> <a style=\"color:#303030\" href=\"#SU\">Set Up </a> </li>\n",
    "            <li> <a style=\"color:#303030\" href=\"#P1\">Exploratory Data Analysis</a></li>\n",
    "            <li> <a style=\"color:#303030\" href=\"#P2\">Modeling</a></li>\n",
    "        </ol>\n",
    "        <strong>Topics Trained:</strong> Binary Classification.\n",
    "    </div>\n",
    "</div>\n",
    "\n",
    "<nav style=\"text-align:right\"><strong>\n",
    "        <a style=\"color:#00BAE5\" href=\"https://monolith.propulsion-home.ch/backend/api/momentum/materials/intro-2-ds-materials/\" title=\"momentum\"> SIT Introduction to Data Science</a>|\n",
    "        <a style=\"color:#00BAE5\" href=\"https://monolith.propulsion-home.ch/backend/api/momentum/materials/intro-2-ds-materials/weeks/week2/day1/index.html\" title=\"momentum\">Week 2 Day 1, Applied Machine Learning</a>|\n",
    "        <a style=\"color:#00BAE5\" href=\"https://colab.research.google.com/drive/17X_OTM8Zqg-r4XEakCxwU6VN1OsJpHh7?usp=sharing\" title=\"momentum\"> Assignment, Classification of breast cancer cells</a>\n",
    "</strong></nav>"
   ]
  },
  {
   "cell_type": "markdown",
   "metadata": {
    "id": "TRFmWZYGJp5j"
   },
   "source": [
    "## Submitted by Temiloluwa Ojo and Robiya Farmonova"
   ]
  },
  {
   "cell_type": "markdown",
   "metadata": {
    "id": "ckLGGhLpmYD8"
   },
   "source": [
    "<a id='SU' name=\"SU\"></a>\n",
    "## [Set up](#P0)"
   ]
  },
  {
   "cell_type": "code",
   "execution_count": null,
   "metadata": {
    "id": "WzyvLIkXKczO"
   },
   "outputs": [],
   "source": [
    "!sudo apt-get install build-essential swig\n",
    "!curl https://raw.githubusercontent.com/automl/auto-sklearn/master/requirements.txt | xargs -n 1 -L 1 pip install\n",
    "!pip install -U auto-sklearn\n",
    "!pip install -U matplotlib\n",
    "!pip install pipelineprofiler\n",
    "!pip install shap\n",
    "!pip install --upgrade plotly\n",
    "!pip3 install -U scikit-learn"
   ]
  },
  {
   "cell_type": "code",
   "execution_count": null,
   "metadata": {
    "id": "Qc9gb4tAKpVu"
   },
   "outputs": [],
   "source": [
    "import pandas as pd\n",
    "import numpy as np\n",
    "from sklearn.model_selection import train_test_split, cross_val_score, KFold\n",
    "from pandas_profiling import ProfileReport\n",
    "import matplotlib.pyplot as plt\n",
    "import plotly\n",
    "plotly.__version__\n",
    "\n",
    "import plotly.graph_objects as go\n",
    "import plotly.io as pio\n",
    "import plotly.express as px\n",
    "from plotly.subplots import make_subplots\n",
    "\n",
    "# your code here\n",
    "from scipy import stats\n",
    "from sklearn.preprocessing import LabelEncoder, StandardScaler, OneHotEncoder\n",
    "from sklearn.impute import SimpleImputer\n",
    "from sklearn import preprocessing\n",
    "from sklearn.metrics import classification_report, confusion_matrix, accuracy_score, ConfusionMatrixDisplay,mean_squared_error\n",
    "from sklearn.tree import DecisionTreeClassifier\n",
    "from sklearn.neighbors import KNeighborsClassifier\n",
    "from sklearn.linear_model import LinearRegression, LogisticRegression  \n",
    "from sklearn.naive_bayes import GaussianNB\n",
    "from sklearn.pipeline import Pipeline\n",
    "import time\n",
    "from google.colab import files\n",
    "\n",
    "from sklearn import set_config\n",
    "from sklearn.compose import ColumnTransformer\n",
    "\n",
    "import autosklearn.classification\n",
    "import PipelineProfiler\n",
    "import shap\n",
    "import datetime\n",
    "\n",
    "from joblib import dump\n",
    "\n",
    "import logging\n"
   ]
  },
  {
   "cell_type": "markdown",
   "metadata": {
    "id": "RspLUVmbsTLB"
   },
   "source": [
    "**Connect** to your Google Drive"
   ]
  },
  {
   "cell_type": "code",
   "execution_count": null,
   "metadata": {
    "id": "VcNDUjQZNxnV"
   },
   "outputs": [],
   "source": [
    "from google.colab import drive\n",
    "drive.mount('/content/drive', force_remount=True)"
   ]
  },
  {
   "cell_type": "code",
   "execution_count": null,
   "metadata": {
    "id": "Kv5qB1cWNyL5"
   },
   "outputs": [],
   "source": [
    "data_path = \"/content/drive/MyDrive/DS/exercises/ASSGNMENT/data/raw/\""
   ]
  },
  {
   "cell_type": "code",
   "execution_count": null,
   "metadata": {
    "id": "gYP1c2D6lvZp"
   },
   "outputs": [],
   "source": [
    "model_path = \"/content/drive/MyDrive/DS/exercises/ASSGNMENT/models/\""
   ]
  },
  {
   "cell_type": "code",
   "execution_count": null,
   "metadata": {
    "id": "XRlYspr9l5RM"
   },
   "outputs": [],
   "source": [
    "timesstr = str(datetime.datetime.now()).replace(' ', '_')"
   ]
  },
  {
   "cell_type": "code",
   "execution_count": null,
   "metadata": {
    "id": "g0fEkXLwl52w"
   },
   "outputs": [],
   "source": [
    "logging.basicConfig(filename=f\"{model_path}explog_{timesstr}.log\", level=logging.INFO)"
   ]
  },
  {
   "cell_type": "markdown",
   "metadata": {
    "id": "tiBsfiFvstdj"
   },
   "source": [
    "Please Download the data from [this source](https://drive.google.com/file/d/1af2YyHIp__OdpuUeOZFwmwOvCsS0Arla/view?usp=sharing), and upload it on your introduction2DS/data google drive folder."
   ]
  },
  {
   "cell_type": "markdown",
   "metadata": {
    "id": "_TwNrMQVmX4S"
   },
   "source": [
    "<a id='P1' name=\"P1\"></a>\n",
    "## [Loading Data and Train-Test Split](#P0)\n"
   ]
  },
  {
   "cell_type": "code",
   "execution_count": null,
   "metadata": {
    "id": "vhLQe4H-qqLH"
   },
   "outputs": [],
   "source": [
    "df = pd.read_csv(f\"{data_path}data-breast-cancer.csv\")"
   ]
  },
  {
   "cell_type": "code",
   "execution_count": null,
   "metadata": {
    "id": "saTmF6mRukU8"
   },
   "outputs": [],
   "source": [
    "#encode the categrical column\n",
    "encoder = LabelEncoder()\n",
    "df['diagnosis'] = encoder.fit_transform(df['diagnosis'])"
   ]
  },
  {
   "cell_type": "code",
   "execution_count": null,
   "metadata": {
    "id": "F8FOA9Izwa3E"
   },
   "outputs": [],
   "source": [
    "df.drop(['Unnamed: 32','id'], axis=1, inplace=True)"
   ]
  },
  {
   "cell_type": "code",
   "execution_count": null,
   "metadata": {
    "id": "dEq5kR5Zma-D"
   },
   "outputs": [],
   "source": [
    "test_size = 0.2\n",
    "random_state = 45"
   ]
  },
  {
   "cell_type": "code",
   "execution_count": null,
   "metadata": {
    "id": "RSkI9tD0mk5p"
   },
   "outputs": [],
   "source": [
    "train, test = train_test_split(df, test_size=test_size, random_state=random_state)"
   ]
  },
  {
   "cell_type": "code",
   "execution_count": null,
   "metadata": {
    "id": "OItQpNaZmoKV"
   },
   "outputs": [],
   "source": [
    "logging.info(f'train test split with test_size={test_size} and random state={random_state}')"
   ]
  },
  {
   "cell_type": "code",
   "execution_count": null,
   "metadata": {
    "id": "d4z3n5crmsz2"
   },
   "outputs": [],
   "source": [
    "train.to_csv(f'{data_path}Breast_Cancer_Train.csv', index=False)"
   ]
  },
  {
   "cell_type": "code",
   "execution_count": null,
   "metadata": {
    "id": "i6X_RVujmy0E"
   },
   "outputs": [],
   "source": [
    "train= train.copy()"
   ]
  },
  {
   "cell_type": "code",
   "execution_count": null,
   "metadata": {
    "id": "FtewZj54m1tk"
   },
   "outputs": [],
   "source": [
    "test.to_csv(f'{data_path}Breast_Cancer_Test.csv', index=False)"
   ]
  },
  {
   "cell_type": "code",
   "execution_count": null,
   "metadata": {
    "id": "Nau0uDh6nOhW"
   },
   "outputs": [],
   "source": [
    "test = test.copy()"
   ]
  },
  {
   "cell_type": "markdown",
   "metadata": {
    "id": "hfxPkrSZnRSu"
   },
   "source": [
    "<a id='P2' name=\"P2\"></a>\n",
    "## [Modelling](#P0)"
   ]
  },
  {
   "cell_type": "code",
   "execution_count": null,
   "metadata": {
    "id": "Zlb4ji55nTfx"
   },
   "outputs": [],
   "source": [
    "X_train, y_train = train.iloc[:,1:], train['diagnosis']"
   ]
  },
  {
   "cell_type": "code",
   "execution_count": null,
   "metadata": {
    "id": "B4-4PYCGncIN"
   },
   "outputs": [],
   "source": [
    "total_time = 600\n",
    "per_run_time_limit = 30"
   ]
  },
  {
   "cell_type": "code",
   "execution_count": null,
   "metadata": {
    "id": "IuyRg1Vtngs5"
   },
   "outputs": [],
   "source": [
    "automl = autosklearn.classification.AutoSklearnClassifier(\n",
    "    time_left_for_this_task=total_time,\n",
    "    per_run_time_limit=per_run_time_limit,\n",
    ")\n",
    "automl.fit(X_train, y_train)"
   ]
  },
  {
   "cell_type": "code",
   "execution_count": null,
   "metadata": {
    "id": "DWZjwLqhnt7z"
   },
   "outputs": [],
   "source": [
    "logging.info(f' total time of {total_time} seconds, with a maximum of {per_run_time_limit} seconds per model run')"
   ]
  },
  {
   "cell_type": "code",
   "execution_count": null,
   "metadata": {
    "id": "HS_MuNWjnx1g"
   },
   "outputs": [],
   "source": [
    "dump(automl, f'{model_path}model{timesstr}.pkl')"
   ]
  },
  {
   "cell_type": "code",
   "execution_count": null,
   "metadata": {
    "id": "HcqeouZXoGOH"
   },
   "outputs": [],
   "source": [
    "logging.info(f'Saved classification model at {model_path}model{timesstr}.pkl ')"
   ]
  },
  {
   "cell_type": "code",
   "execution_count": null,
   "metadata": {
    "id": "kRsAKBIqoKzp"
   },
   "outputs": [],
   "source": [
    "logging.info(f'autosklearn model statistics:')\n",
    "logging.info(automl.sprint_statistics())"
   ]
  },
  {
   "cell_type": "markdown",
   "metadata": {
    "id": "vbQLe2QdoUx6"
   },
   "source": [
    "<a id='P2' name=\"P2\"></a>\n",
    "## [Model Evluation and Explainability](#P0)"
   ]
  },
  {
   "cell_type": "code",
   "execution_count": null,
   "metadata": {
    "id": "F6zGAX5Qor7Y"
   },
   "outputs": [],
   "source": [
    "X_test, y_test = train.iloc[:,1:], train['diagnosis'] "
   ]
  },
  {
   "cell_type": "markdown",
   "metadata": {
    "id": "aZAUeqplo1ZH"
   },
   "source": [
    "Now, we can attempt to predict the diagnosis prediction from our test set. To do that, we just use the .predict method on the object \"automl\" that we created and trained in the last sections:"
   ]
  },
  {
   "cell_type": "code",
   "execution_count": null,
   "metadata": {
    "id": "NWB2iQeoo0VX"
   },
   "outputs": [],
   "source": [
    "y_pred = automl.predict(X_test)"
   ]
  },
  {
   "cell_type": "markdown",
   "metadata": {
    "id": "vIqWbLbXpEZP"
   },
   "source": [
    "Let's now evaluate it using the mean_squared_error function from scikit learn:"
   ]
  },
  {
   "cell_type": "code",
   "execution_count": null,
   "metadata": {
    "id": "YNnD8ZufpG9x"
   },
   "outputs": [],
   "source": [
    "logging.info(f\"Mean Squared Error is {mean_squared_error(y_test, y_pred)}, \\n R2 score is {automl.score(X_test, y_test)}\")"
   ]
  },
  {
   "cell_type": "markdown",
   "metadata": {
    "id": "uLyeHqGepJJp"
   },
   "source": [
    "we can also plot the y_test vs y_pred scatter:"
   ]
  },
  {
   "cell_type": "code",
   "execution_count": null,
   "metadata": {
    "id": "9gYcHatIpOU6"
   },
   "outputs": [],
   "source": [
    "df = pd.DataFrame(np.concatenate((X_test, y_test.to_numpy().reshape(-1,1), y_pred.reshape(-1,1)),  axis=1))"
   ]
  },
  {
   "cell_type": "code",
   "execution_count": null,
   "metadata": {
    "id": "eeAG9fW2pS0n"
   },
   "outputs": [],
   "source": [
    "df.columns = ['radius_mean', 'texture_mean', 'perimeter_mean',\n",
    "       'area_mean', 'smoothness_mean', 'compactness_mean', 'concavity_mean',\n",
    "       'concave points_mean', 'symmetry_mean', 'fractal_dimension_mean',\n",
    "       'radius_se', 'texture_se', 'perimeter_se', 'area_se', 'smoothness_se',\n",
    "       'compactness_se', 'concavity_se', 'concave points_se', 'symmetry_se',\n",
    "       'fractal_dimension_se', 'radius_worst', 'texture_worst',\n",
    "       'perimeter_worst', 'area_worst', 'smoothness_worst',\n",
    "       'compactness_worst', 'concavity_worst', 'concave points_worst',\n",
    "       'symmetry_worst', 'fractal_dimension_worst', 'Predicted Target','True Target']"
   ]
  },
  {
   "cell_type": "code",
   "execution_count": null,
   "metadata": {
    "id": "x3LX60cBpqSh"
   },
   "outputs": [],
   "source": [
    "fig = px.scatter(df, x='Predicted Target', y='True Target')\n",
    "fig.write_html(f\"{model_path}residualfig_{timesstr}.html\")"
   ]
  },
  {
   "cell_type": "code",
   "execution_count": null,
   "metadata": {
    "id": "NPmIV1XCpsY8"
   },
   "outputs": [],
   "source": [
    "logging.info(f\"Figure of residuals saved as {model_path}residualfig_{timesstr}.html\")"
   ]
  },
  {
   "cell_type": "markdown",
   "metadata": {
    "id": "sSlAaezUpvP0"
   },
   "source": [
    "#### Model Explainability"
   ]
  },
  {
   "cell_type": "code",
   "execution_count": null,
   "metadata": {
    "id": "NFgTt58cpw5o"
   },
   "outputs": [],
   "source": [
    "explainer = shap.KernelExplainer(model = automl.predict, data = X_test.iloc[:50, :], link = \"identity\")"
   ]
  },
  {
   "cell_type": "code",
   "execution_count": null,
   "metadata": {
    "id": "g4ePoWyOpz-E"
   },
   "outputs": [],
   "source": [
    "X_idx = 0\n",
    "shap_value_single = explainer.shap_values(X = X_test.iloc[X_idx:X_idx+1,:], nsamples = 100)\n",
    "X_test.iloc[X_idx:X_idx+1,:]\n",
    "\n",
    "shap.force_plot(base_value = explainer.expected_value,\n",
    "                shap_values = shap_value_single,\n",
    "                features = X_test.iloc[X_idx:X_idx+1,:], \n",
    "                show=False,\n",
    "                matplotlib=True\n",
    "                )\n",
    "plt.savefig(f\"{model_path}shap_example_{timesstr}.png\")\n",
    "logging.info(f\"Shapley example saved as {model_path}shap_example_{timesstr}.png\")"
   ]
  },
  {
   "cell_type": "code",
   "execution_count": null,
   "metadata": {
    "id": "MWN2To1Xp4Xr"
   },
   "outputs": [],
   "source": [
    "shap_values = explainer.shap_values(X = X_test.iloc[0:50,:], nsamples = 100)"
   ]
  },
  {
   "cell_type": "code",
   "execution_count": null,
   "metadata": {
    "id": "55AF67rzp8kB"
   },
   "outputs": [],
   "source": [
    "\n",
    "fig = shap.summary_plot(shap_values = shap_values,\n",
    "                  features = X_test.iloc[0:50,:],\n",
    "                  show=False)\n",
    "plt.savefig(f\"{model_path}shap_summary_{timesstr}.png\")\n",
    "logging.info(f\"Shapley summary saved as {model_path}shap_summary_{timesstr}.png\")"
   ]
  }
 ],
 "metadata": {
  "colab": {
   "collapsed_sections": [],
   "name": "W2D1_Breast_Cancer_Solution.ipynb",
   "provenance": [
    {
     "file_id": "17X_OTM8Zqg-r4XEakCxwU6VN1OsJpHh7",
     "timestamp": 1618635750635
    }
   ],
   "toc_visible": true
  },
  "kernelspec": {
   "display_name": "Python 3 (ipykernel)",
   "language": "python",
   "name": "python3"
  },
  "language_info": {
   "codemirror_mode": {
    "name": "ipython",
    "version": 3
   },
   "file_extension": ".py",
   "mimetype": "text/x-python",
   "name": "python",
   "nbconvert_exporter": "python",
   "pygments_lexer": "ipython3",
   "version": "3.8.8"
  }
 },
 "nbformat": 4,
 "nbformat_minor": 4
}
