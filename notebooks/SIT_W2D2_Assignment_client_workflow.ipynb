{
 "cells": [
  {
   "cell_type": "code",
   "execution_count": 7,
   "metadata": {
    "colab": {
     "base_uri": "https://localhost:8080/"
    },
    "executionInfo": {
     "elapsed": 3934,
     "status": "ok",
     "timestamp": 1618736003849,
     "user": {
      "displayName": "Temiloluwa Ojo",
      "photoUrl": "https://lh3.googleusercontent.com/a-/AOh14GgH5UyRuGmim7OxyboKewxBSkjbnJAN1O7jJ_Wv=s64",
      "userId": "16393263346339414704"
     },
     "user_tz": -120
    },
    "id": "yw54EmhdWaKb",
    "outputId": "17c577bd-7235-480b-a6fd-3a25be5aaedb"
   },
   "outputs": [
    {
     "name": "stdout",
     "output_type": "stream",
     "text": [
      "Requirement already satisfied: requests in /home/jafar/anaconda3/lib/python3.8/site-packages (2.22.0)\n",
      "Requirement already satisfied: urllib3!=1.25.0,!=1.25.1,<1.26,>=1.21.1 in /home/jafar/anaconda3/lib/python3.8/site-packages (from requests) (1.25.8)\n",
      "Requirement already satisfied: certifi>=2017.4.17 in /home/jafar/anaconda3/lib/python3.8/site-packages (from requests) (2019.11.28)\n",
      "Requirement already satisfied: chardet<3.1.0,>=3.0.2 in /home/jafar/anaconda3/lib/python3.8/site-packages (from requests) (3.0.4)\n",
      "Requirement already satisfied: idna<2.9,>=2.5 in /home/jafar/anaconda3/lib/python3.8/site-packages (from requests) (2.8)\n",
      "\u001b[33mWARNING: You are using pip version 22.0.3; however, version 22.0.4 is available.\n",
      "You should consider upgrading via the '/home/jafar/anaconda3/bin/python -m pip install --upgrade pip' command.\u001b[0m\u001b[33m\n",
      "\u001b[0m"
     ]
    }
   ],
   "source": [
    "!pip install requests"
   ]
  },
  {
   "cell_type": "code",
   "execution_count": 8,
   "metadata": {
    "executionInfo": {
     "elapsed": 427,
     "status": "ok",
     "timestamp": 1618736006112,
     "user": {
      "displayName": "Temiloluwa Ojo",
      "photoUrl": "https://lh3.googleusercontent.com/a-/AOh14GgH5UyRuGmim7OxyboKewxBSkjbnJAN1O7jJ_Wv=s64",
      "userId": "16393263346339414704"
     },
     "user_tz": -120
    },
    "id": "XwJFo0hxWekO"
   },
   "outputs": [],
   "source": [
    "import requests\n",
    "import json"
   ]
  },
  {
   "cell_type": "code",
   "execution_count": 57,
   "metadata": {
    "executionInfo": {
     "elapsed": 436,
     "status": "ok",
     "timestamp": 1618739790504,
     "user": {
      "displayName": "Temiloluwa Ojo",
      "photoUrl": "https://lh3.googleusercontent.com/a-/AOh14GgH5UyRuGmim7OxyboKewxBSkjbnJAN1O7jJ_Wv=s64",
      "userId": "16393263346339414704"
     },
     "user_tz": -120
    },
    "id": "AO4I8Cjsar-2"
   },
   "outputs": [],
   "source": [
    "# change to the ngrok url generated.\n",
    "# everytime you restart the server, a new url will be generated\n",
    "url = 'http://1aac91df7369.ngrok.io/'"
   ]
  },
  {
   "cell_type": "code",
   "execution_count": 6,
   "metadata": {
    "executionInfo": {
     "elapsed": 501,
     "status": "ok",
     "timestamp": 1618740419210,
     "user": {
      "displayName": "Temiloluwa Ojo",
      "photoUrl": "https://lh3.googleusercontent.com/a-/AOh14GgH5UyRuGmim7OxyboKewxBSkjbnJAN1O7jJ_Wv=s64",
      "userId": "16393263346339414704"
     },
     "user_tz": -120
    },
    "id": "p5k6Dv5TcvAI"
   },
   "outputs": [],
   "source": [
    "benign =[82.66,\n",
    " 0.1413,\n",
    " 0.07708,\n",
    " 503.0,\n",
    " 0.08096,\n",
    " 1.908,\n",
    " 398.0,\n",
    " 0.01735,\n",
    " 0.2843,\n",
    " 0.01861,\n",
    " 1.937,\n",
    " 0.06562,\n",
    " 0.09486,\n",
    " 0.1645,\n",
    " 0.1792,\n",
    " 0.006664,\n",
    " 0.00952,\n",
    " 0.1092,\n",
    " 0.2584,\n",
    " 0.06402,\n",
    " 17.31,\n",
    " 0.01158,\n",
    " 21.38,\n",
    " 12.78,\n",
    " 0.02031,\n",
    " 0.02282,\n",
    " 73.66,\n",
    " 0.003526,\n",
    " 26.76,\n",
    " 11.43]\n",
    "\n",
    "malignant =[20.47,\n",
    " 0.1665,\n",
    " 0.01778,\n",
    " 0.009037,\n",
    " 963.7,\n",
    " 0.1971,\n",
    " 0.1515,\n",
    " 117.4,\n",
    " 0.1418,\n",
    " 93.91,\n",
    " 17.68,\n",
    " 0.3498,\n",
    " 20.74,\n",
    " 1302.0,\n",
    " 0.004968,\n",
    " 0.04954,\n",
    " 0.8113,\n",
    " 1.4,\n",
    " 25.11,\n",
    " 0.1855,\n",
    " 5.54,\n",
    " 0.1054,\n",
    " 0.1115,\n",
    " 0.06166,\n",
    " 0.2463,\n",
    " 0.01841,\n",
    " 0.07738,\n",
    " 0.05206,\n",
    " 132.9,\n",
    " 0.3583]"
   ]
  },
  {
   "cell_type": "code",
   "execution_count": 64,
   "metadata": {
    "executionInfo": {
     "elapsed": 570,
     "status": "ok",
     "timestamp": 1618740460137,
     "user": {
      "displayName": "Temiloluwa Ojo",
      "photoUrl": "https://lh3.googleusercontent.com/a-/AOh14GgH5UyRuGmim7OxyboKewxBSkjbnJAN1O7jJ_Wv=s64",
      "userId": "16393263346339414704"
     },
     "user_tz": -120
    },
    "id": "-sr91r7rRQ6p"
   },
   "outputs": [],
   "source": [
    "# change to the one you want to test\n",
    "\n",
    "# features = benign\n",
    "features = malignant"
   ]
  },
  {
   "cell_type": "code",
   "execution_count": 65,
   "metadata": {
    "executionInfo": {
     "elapsed": 862,
     "status": "ok",
     "timestamp": 1618740462155,
     "user": {
      "displayName": "Temiloluwa Ojo",
      "photoUrl": "https://lh3.googleusercontent.com/a-/AOh14GgH5UyRuGmim7OxyboKewxBSkjbnJAN1O7jJ_Wv=s64",
      "userId": "16393263346339414704"
     },
     "user_tz": -120
    },
    "id": "tjj15P7RcqEV"
   },
   "outputs": [],
   "source": [
    "req = requests.post(url,\n",
    "                headers = {'Content-Type': 'application/json'},\n",
    "                data = json.dumps({'features': features})\n",
    "               )"
   ]
  },
  {
   "cell_type": "code",
   "execution_count": 66,
   "metadata": {
    "colab": {
     "base_uri": "https://localhost:8080/"
    },
    "executionInfo": {
     "elapsed": 335,
     "status": "ok",
     "timestamp": 1618740462958,
     "user": {
      "displayName": "Temiloluwa Ojo",
      "photoUrl": "https://lh3.googleusercontent.com/a-/AOh14GgH5UyRuGmim7OxyboKewxBSkjbnJAN1O7jJ_Wv=s64",
      "userId": "16393263346339414704"
     },
     "user_tz": -120
    },
    "id": "VDkya8oZa3a-",
    "outputId": "b2829a2b-a3cb-42b7-9d5c-45bf50855bc6"
   },
   "outputs": [
    {
     "data": {
      "text/plain": [
       "1"
      ]
     },
     "execution_count": 66,
     "metadata": {
      "tags": []
     },
     "output_type": "execute_result"
    }
   ],
   "source": [
    "req.json()[\"prediction\"]"
   ]
  },
  {
   "cell_type": "code",
   "execution_count": null,
   "metadata": {
    "id": "qwcTyGSQRTqx"
   },
   "outputs": [],
   "source": []
  }
 ],
 "metadata": {
  "colab": {
   "collapsed_sections": [],
   "name": "SIT_W2D2_Assignment_client_workflow.ipynb",
   "provenance": [
    {
     "file_id": "1oD7uk1tYBMNPozKLD5B_A2873i-7Fb9v",
     "timestamp": 1618735659202
    }
   ]
  },
  "kernelspec": {
   "display_name": "Python 3 (ipykernel)",
   "language": "python",
   "name": "python3"
  },
  "language_info": {
   "codemirror_mode": {
    "name": "ipython",
    "version": 3
   },
   "file_extension": ".py",
   "mimetype": "text/x-python",
   "name": "python",
   "nbconvert_exporter": "python",
   "pygments_lexer": "ipython3",
   "version": "3.8.8"
  }
 },
 "nbformat": 4,
 "nbformat_minor": 4
}
