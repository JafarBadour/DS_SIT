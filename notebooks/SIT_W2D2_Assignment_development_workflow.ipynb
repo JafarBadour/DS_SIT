{
 "cells": [
  {
   "cell_type": "markdown",
   "metadata": {
    "id": "DUMU3K1L_E_x"
   },
   "source": [
    "### Setup"
   ]
  },
  {
   "cell_type": "code",
   "execution_count": 1,
   "metadata": {
    "colab": {
     "base_uri": "https://localhost:8080/",
     "height": 1000
    },
    "executionInfo": {
     "elapsed": 63290,
     "status": "ok",
     "timestamp": 1618922484062,
     "user": {
      "displayName": "Temiloluwa Ojo",
      "photoUrl": "https://lh3.googleusercontent.com/a-/AOh14GgH5UyRuGmim7OxyboKewxBSkjbnJAN1O7jJ_Wv=s64",
      "userId": "16393263346339414704"
     },
     "user_tz": -120
    },
    "id": "ObYbG718-NCP",
    "outputId": "711eda88-ac1d-46ae-83d9-456cc6290eb2"
   },
   "outputs": [],
   "source": [
    "!sudo apt-get install cookiecutter\n",
    "!pip install gdown\n",
    "!pip install dvc\n",
    "!pip install 'dvc[gdrive]'"
   ]
  },
  {
   "cell_type": "code",
   "execution_count": null,
   "metadata": {
    "executionInfo": {
     "elapsed": 719,
     "status": "ok",
     "timestamp": 1618922606221,
     "user": {
      "displayName": "Temiloluwa Ojo",
      "photoUrl": "https://lh3.googleusercontent.com/a-/AOh14GgH5UyRuGmim7OxyboKewxBSkjbnJAN1O7jJ_Wv=s64",
      "userId": "16393263346339414704"
     },
     "user_tz": -120
    },
    "id": "f761SqPC-k2D"
   },
   "outputs": [],
   "source": [
    "from google.colab import drive"
   ]
  },
  {
   "cell_type": "code",
   "execution_count": null,
   "metadata": {
    "colab": {
     "base_uri": "https://localhost:8080/"
    },
    "executionInfo": {
     "elapsed": 21843,
     "status": "ok",
     "timestamp": 1618922628919,
     "user": {
      "displayName": "Temiloluwa Ojo",
      "photoUrl": "https://lh3.googleusercontent.com/a-/AOh14GgH5UyRuGmim7OxyboKewxBSkjbnJAN1O7jJ_Wv=s64",
      "userId": "16393263346339414704"
     },
     "user_tz": -120
    },
    "id": "3jkGNgxy_Zbc",
    "outputId": "26d8a576-2ad0-4c39-a9b4-1e046ab8f892"
   },
   "outputs": [],
   "source": [
    "drive.mount('/content/drive', force_remount=True)"
   ]
  },
  {
   "cell_type": "code",
   "execution_count": null,
   "metadata": {
    "colab": {
     "base_uri": "https://localhost:8080/"
    },
    "executionInfo": {
     "elapsed": 537,
     "status": "ok",
     "timestamp": 1618922631275,
     "user": {
      "displayName": "Temiloluwa Ojo",
      "photoUrl": "https://lh3.googleusercontent.com/a-/AOh14GgH5UyRuGmim7OxyboKewxBSkjbnJAN1O7jJ_Wv=s64",
      "userId": "16393263346339414704"
     },
     "user_tz": -120
    },
    "id": "7hZxt5cB_ap0",
    "outputId": "e9a9a653-cca4-404a-c169-100de504e31b"
   },
   "outputs": [],
   "source": [
    "%cd /content/drive/MyDrive/TOKEN"
   ]
  },
  {
   "cell_type": "code",
   "execution_count": null,
   "metadata": {
    "colab": {
     "base_uri": "https://localhost:8080/"
    },
    "executionInfo": {
     "elapsed": 41795,
     "status": "ok",
     "timestamp": 1618732050934,
     "user": {
      "displayName": "Temiloluwa Ojo",
      "photoUrl": "https://lh3.googleusercontent.com/a-/AOh14GgH5UyRuGmim7OxyboKewxBSkjbnJAN1O7jJ_Wv=s64",
      "userId": "16393263346339414704"
     },
     "user_tz": -120
    },
    "id": "r1hxzUjm_4Qb",
    "outputId": "b3d210f8-dda7-4bf8-fccc-20375867a61e"
   },
   "outputs": [],
   "source": [
    "!cookiecutter https://github.com/drivendata/cookiecutter-data-science"
   ]
  },
  {
   "cell_type": "code",
   "execution_count": null,
   "metadata": {
    "colab": {
     "base_uri": "https://localhost:8080/"
    },
    "executionInfo": {
     "elapsed": 1063,
     "status": "ok",
     "timestamp": 1618922638951,
     "user": {
      "displayName": "Temiloluwa Ojo",
      "photoUrl": "https://lh3.googleusercontent.com/a-/AOh14GgH5UyRuGmim7OxyboKewxBSkjbnJAN1O7jJ_Wv=s64",
      "userId": "16393263346339414704"
     },
     "user_tz": -120
    },
    "id": "DUT2zpjp_9KS",
    "outputId": "8ca6ea53-ed17-4077-97c8-63fa250253dd"
   },
   "outputs": [],
   "source": [
    "%cd sit_w2d2_ml_engineering_assignment\n",
    "!ls"
   ]
  },
  {
   "cell_type": "markdown",
   "metadata": {
    "id": "hqsvclOHUxA9"
   },
   "source": [
    "### Code Version Control With Git"
   ]
  },
  {
   "cell_type": "code",
   "execution_count": null,
   "metadata": {
    "colab": {
     "base_uri": "https://localhost:8080/"
    },
    "executionInfo": {
     "elapsed": 792,
     "status": "ok",
     "timestamp": 1618732057361,
     "user": {
      "displayName": "Temiloluwa Ojo",
      "photoUrl": "https://lh3.googleusercontent.com/a-/AOh14GgH5UyRuGmim7OxyboKewxBSkjbnJAN1O7jJ_Wv=s64",
      "userId": "16393263346339414704"
     },
     "user_tz": -120
    },
    "id": "BpkFeMasASz1",
    "outputId": "5fbed2bb-eed4-48aa-a027-f4727e43f19f"
   },
   "outputs": [],
   "source": [
    "!git init"
   ]
  },
  {
   "cell_type": "code",
   "execution_count": null,
   "metadata": {
    "id": "Gzbb_rX1TrSa"
   },
   "outputs": [],
   "source": [
    "# Before adding the files to git, \n",
    "# edit the line that ignores out /data/ on line 79 in .gitignore\n",
    "# as DVC would be used to keep track of the data"
   ]
  },
  {
   "cell_type": "code",
   "execution_count": null,
   "metadata": {
    "id": "_oWylzGtAYzT"
   },
   "outputs": [],
   "source": [
    "!git add ."
   ]
  },
  {
   "cell_type": "code",
   "execution_count": null,
   "metadata": {
    "colab": {
     "base_uri": "https://localhost:8080/"
    },
    "executionInfo": {
     "elapsed": 13771,
     "status": "ok",
     "timestamp": 1618922658026,
     "user": {
      "displayName": "Temiloluwa Ojo",
      "photoUrl": "https://lh3.googleusercontent.com/a-/AOh14GgH5UyRuGmim7OxyboKewxBSkjbnJAN1O7jJ_Wv=s64",
      "userId": "16393263346339414704"
     },
     "user_tz": -120
    },
    "id": "3scmGUQvAagU",
    "outputId": "aad1c9fa-3afe-4d20-c4bb-bf9e9a94d7b0"
   },
   "outputs": [],
   "source": [
    "!git status"
   ]
  },
  {
   "cell_type": "code",
   "execution_count": null,
   "metadata": {
    "id": "QHHMXIYKAcxc"
   },
   "outputs": [],
   "source": [
    "# change to your email address and name\n",
    "\n",
    "!git config --global user.email \"jafer,ba@gmail.com\"\n",
    "!git config --global user.name \"Jafar Badour\""
   ]
  },
  {
   "cell_type": "code",
   "execution_count": null,
   "metadata": {
    "colab": {
     "base_uri": "https://localhost:8080/"
    },
    "executionInfo": {
     "elapsed": 893,
     "status": "ok",
     "timestamp": 1618732095973,
     "user": {
      "displayName": "Temiloluwa Ojo",
      "photoUrl": "https://lh3.googleusercontent.com/a-/AOh14GgH5UyRuGmim7OxyboKewxBSkjbnJAN1O7jJ_Wv=s64",
      "userId": "16393263346339414704"
     },
     "user_tz": -120
    },
    "id": "PWYs0h7SAi1L",
    "outputId": "4378b215-262d-4826-933b-b23aa137bc59"
   },
   "outputs": [],
   "source": [
    "!git commit -m \"cookiecutter data science project structure\""
   ]
  },
  {
   "cell_type": "markdown",
   "metadata": {
    "id": "Ftzm09F5VPEb"
   },
   "source": [
    " ### Donwloading Data and Notebooks"
   ]
  },
  {
   "cell_type": "code",
   "execution_count": null,
   "metadata": {
    "colab": {
     "base_uri": "https://localhost:8080/"
    },
    "executionInfo": {
     "elapsed": 523,
     "status": "ok",
     "timestamp": 1618732099518,
     "user": {
      "displayName": "Temiloluwa Ojo",
      "photoUrl": "https://lh3.googleusercontent.com/a-/AOh14GgH5UyRuGmim7OxyboKewxBSkjbnJAN1O7jJ_Wv=s64",
      "userId": "16393263346339414704"
     },
     "user_tz": -120
    },
    "id": "vrTRseV0AplF",
    "outputId": "e1cb3341-0b70-474e-97ea-81a425b9c058"
   },
   "outputs": [],
   "source": [
    "%cd data/raw"
   ]
  },
  {
   "cell_type": "code",
   "execution_count": null,
   "metadata": {
    "colab": {
     "base_uri": "https://localhost:8080/"
    },
    "executionInfo": {
     "elapsed": 1729,
     "status": "ok",
     "timestamp": 1618732103417,
     "user": {
      "displayName": "Temiloluwa Ojo",
      "photoUrl": "https://lh3.googleusercontent.com/a-/AOh14GgH5UyRuGmim7OxyboKewxBSkjbnJAN1O7jJ_Wv=s64",
      "userId": "16393263346339414704"
     },
     "user_tz": -120
    },
    "id": "-Zm23WE5Ar21",
    "outputId": "59422a12-c2b8-4ca6-d259-672cd3bb6c47"
   },
   "outputs": [],
   "source": [
    "\n",
    "!gdown https://drive.google.com/uc?id=1VuNIjK7xbUX41XKaW9cVvYFGjfYXz0dH"
   ]
  },
  {
   "cell_type": "code",
   "execution_count": null,
   "metadata": {
    "colab": {
     "base_uri": "https://localhost:8080/"
    },
    "executionInfo": {
     "elapsed": 494,
     "status": "ok",
     "timestamp": 1618732106875,
     "user": {
      "displayName": "Temiloluwa Ojo",
      "photoUrl": "https://lh3.googleusercontent.com/a-/AOh14GgH5UyRuGmim7OxyboKewxBSkjbnJAN1O7jJ_Wv=s64",
      "userId": "16393263346339414704"
     },
     "user_tz": -120
    },
    "id": "c2zzDdgtAzPe",
    "outputId": "4eef5f13-8bf0-4a58-b87e-8bd97dffaa0b"
   },
   "outputs": [],
   "source": [
    "%cd ../../notebooks/"
   ]
  },
  {
   "cell_type": "code",
   "execution_count": null,
   "metadata": {
    "colab": {
     "base_uri": "https://localhost:8080/"
    },
    "executionInfo": {
     "elapsed": 1626,
     "status": "ok",
     "timestamp": 1618732112181,
     "user": {
      "displayName": "Temiloluwa Ojo",
      "photoUrl": "https://lh3.googleusercontent.com/a-/AOh14GgH5UyRuGmim7OxyboKewxBSkjbnJAN1O7jJ_Wv=s64",
      "userId": "16393263346339414704"
     },
     "user_tz": -120
    },
    "id": "_a9vns7IA1fH",
    "outputId": "6dd2304a-7097-4da0-fe2e-2940a868cb71"
   },
   "outputs": [],
   "source": [
    "# download the notebook used in solving the assignment for week 2 day 2\n",
    "# ensure the notebook is uploaded in your drive\n",
    "# and change the sharing setting to anyone with the link\n",
    "\n",
    "!gdown https://drive.google.com/uc?id=1v8q_rumGUooONLUYMKGTe9M34SNKugnX"
   ]
  },
  {
   "cell_type": "code",
   "execution_count": null,
   "metadata": {
    "colab": {
     "base_uri": "https://localhost:8080/"
    },
    "executionInfo": {
     "elapsed": 494,
     "status": "ok",
     "timestamp": 1618732153877,
     "user": {
      "displayName": "Temiloluwa Ojo",
      "photoUrl": "https://lh3.googleusercontent.com/a-/AOh14GgH5UyRuGmim7OxyboKewxBSkjbnJAN1O7jJ_Wv=s64",
      "userId": "16393263346339414704"
     },
     "user_tz": -120
    },
    "id": "EIlZ06JbA7DO",
    "outputId": "2e801ddb-ef1b-403e-c895-8c0a7c1d7d58"
   },
   "outputs": [],
   "source": [
    "%cd /content/drive/My Drive/Introduction2DataScience/exercises/sit_w2d2_ml_engineering_assignment/notebooks"
   ]
  },
  {
   "cell_type": "code",
   "execution_count": null,
   "metadata": {
    "colab": {
     "base_uri": "https://localhost:8080/"
    },
    "executionInfo": {
     "elapsed": 1743,
     "status": "ok",
     "timestamp": 1618732159026,
     "user": {
      "displayName": "Temiloluwa Ojo",
      "photoUrl": "https://lh3.googleusercontent.com/a-/AOh14GgH5UyRuGmim7OxyboKewxBSkjbnJAN1O7jJ_Wv=s64",
      "userId": "16393263346339414704"
     },
     "user_tz": -120
    },
    "id": "EI0Q02UUA88a",
    "outputId": "abbc1fba-accc-4855-e54e-2433e8394f4e"
   },
   "outputs": [],
   "source": [
    "!jupyter nbconvert --to script --output ../src/train W2D1_Breast_Cancer_Solution.ipynb --to python"
   ]
  },
  {
   "cell_type": "markdown",
   "metadata": {
    "id": "glBEp0CnBJwF"
   },
   "source": [
    "### Data Version Control (DVC)"
   ]
  },
  {
   "cell_type": "code",
   "execution_count": null,
   "metadata": {
    "colab": {
     "base_uri": "https://localhost:8080/"
    },
    "executionInfo": {
     "elapsed": 489,
     "status": "ok",
     "timestamp": 1618733082757,
     "user": {
      "displayName": "Temiloluwa Ojo",
      "photoUrl": "https://lh3.googleusercontent.com/a-/AOh14GgH5UyRuGmim7OxyboKewxBSkjbnJAN1O7jJ_Wv=s64",
      "userId": "16393263346339414704"
     },
     "user_tz": -120
    },
    "id": "CvdZ4M-WBQFV",
    "outputId": "2483c44d-0afd-42ed-aaa4-aee3344d8238"
   },
   "outputs": [],
   "source": [
    "%cd /content/drive/MyDrive/DS/exercises/ASSGNMENT/assignment"
   ]
  },
  {
   "cell_type": "code",
   "execution_count": null,
   "metadata": {
    "colab": {
     "base_uri": "https://localhost:8080/"
    },
    "executionInfo": {
     "elapsed": 445,
     "status": "ok",
     "timestamp": 1618733088770,
     "user": {
      "displayName": "Temiloluwa Ojo",
      "photoUrl": "https://lh3.googleusercontent.com/a-/AOh14GgH5UyRuGmim7OxyboKewxBSkjbnJAN1O7jJ_Wv=s64",
      "userId": "16393263346339414704"
     },
     "user_tz": -120
    },
    "id": "LdWHePFyE3do",
    "outputId": "e38a43bb-294a-40f0-f658-fb31ddb2a58e"
   },
   "outputs": [],
   "source": [
    "!ls -la\n",
    "!dvc init\n",
    "!git status\n",
    "!ls -la\n",
    "!git add .\n",
    "!git commit -m \"DVC initialization\""
   ]
  },
  {
   "cell_type": "markdown",
   "metadata": {
    "id": "YcbnlrqQA_au"
   },
   "source": [
    "**Before running the below cell, first create a new folder in your google drive repository. Turn sharing setting on then copy the id of the folder and replace the id there** "
   ]
  },
  {
   "cell_type": "code",
   "execution_count": null,
   "metadata": {
    "colab": {
     "base_uri": "https://localhost:8080/"
    },
    "executionInfo": {
     "elapsed": 1565,
     "status": "ok",
     "timestamp": 1618733330571,
     "user": {
      "displayName": "Temiloluwa Ojo",
      "photoUrl": "https://lh3.googleusercontent.com/a-/AOh14GgH5UyRuGmim7OxyboKewxBSkjbnJAN1O7jJ_Wv=s64",
      "userId": "16393263346339414704"
     },
     "user_tz": -120
    },
    "id": "sN4DqB24FMIu",
    "outputId": "992716f2-f327-4263-8e15-59842518b591"
   },
   "outputs": [],
   "source": [
    "# Replace the strings after gdrive:// with the\n",
    "# string url you created\n",
    "!dvc remote add -f --default myremote gdrive://1ftTmjhRIfh3SUR7XK14A8yZpXT-0npuQ\n",
    "# !dvc remote add -f --default myremote gdrive://<id goes here>"
   ]
  },
  {
   "cell_type": "code",
   "execution_count": null,
   "metadata": {
    "colab": {
     "base_uri": "https://localhost:8080/"
    },
    "executionInfo": {
     "elapsed": 805,
     "status": "ok",
     "timestamp": 1618733338249,
     "user": {
      "displayName": "Temiloluwa Ojo",
      "photoUrl": "https://lh3.googleusercontent.com/a-/AOh14GgH5UyRuGmim7OxyboKewxBSkjbnJAN1O7jJ_Wv=s64",
      "userId": "16393263346339414704"
     },
     "user_tz": -120
    },
    "id": "tbmKCC-eFRoN",
    "outputId": "91b2ba37-1059-4973-8e11-2c130e4cb88c"
   },
   "outputs": [],
   "source": [
    "!git rm -r --cached 'data/raw'\n",
    "!git commit -m \"stop tracking data/raw\" "
   ]
  },
  {
   "cell_type": "code",
   "execution_count": null,
   "metadata": {
    "colab": {
     "base_uri": "https://localhost:8080/"
    },
    "executionInfo": {
     "elapsed": 3370,
     "status": "ok",
     "timestamp": 1618733346555,
     "user": {
      "displayName": "Temiloluwa Ojo",
      "photoUrl": "https://lh3.googleusercontent.com/a-/AOh14GgH5UyRuGmim7OxyboKewxBSkjbnJAN1O7jJ_Wv=s64",
      "userId": "16393263346339414704"
     },
     "user_tz": -120
    },
    "id": "zMZxkX_eFhB5",
    "outputId": "d5efd779-3f95-4f48-8679-3ac3655bd9d2"
   },
   "outputs": [],
   "source": [
    "!dvc add data/raw"
   ]
  },
  {
   "cell_type": "code",
   "execution_count": null,
   "metadata": {
    "colab": {
     "base_uri": "https://localhost:8080/"
    },
    "executionInfo": {
     "elapsed": 461,
     "status": "ok",
     "timestamp": 1618733353917,
     "user": {
      "displayName": "Temiloluwa Ojo",
      "photoUrl": "https://lh3.googleusercontent.com/a-/AOh14GgH5UyRuGmim7OxyboKewxBSkjbnJAN1O7jJ_Wv=s64",
      "userId": "16393263346339414704"
     },
     "user_tz": -120
    },
    "id": "OYy6pn-OFjpw",
    "outputId": "e4da6b97-a718-4a81-bfff-1d84ebb44384"
   },
   "outputs": [],
   "source": [
    "!ls -la data"
   ]
  },
  {
   "cell_type": "code",
   "execution_count": null,
   "metadata": {
    "id": "4czXbOMNFlQ6"
   },
   "outputs": [],
   "source": [
    "!git add data/.gitignore data/raw.dvc"
   ]
  },
  {
   "cell_type": "code",
   "execution_count": null,
   "metadata": {
    "colab": {
     "base_uri": "https://localhost:8080/"
    },
    "executionInfo": {
     "elapsed": 25158,
     "status": "ok",
     "timestamp": 1618733388344,
     "user": {
      "displayName": "Temiloluwa Ojo",
      "photoUrl": "https://lh3.googleusercontent.com/a-/AOh14GgH5UyRuGmim7OxyboKewxBSkjbnJAN1O7jJ_Wv=s64",
      "userId": "16393263346339414704"
     },
     "user_tz": -120
    },
    "id": "4-deIDF3Fmr5",
    "outputId": "e8f320d8-2c51-4925-f239-db8501fed0dd"
   },
   "outputs": [],
   "source": [
    "!dvc push"
   ]
  },
  {
   "cell_type": "code",
   "execution_count": null,
   "metadata": {
    "colab": {
     "base_uri": "https://localhost:8080/"
    },
    "executionInfo": {
     "elapsed": 453,
     "status": "ok",
     "timestamp": 1618733403225,
     "user": {
      "displayName": "Temiloluwa Ojo",
      "photoUrl": "https://lh3.googleusercontent.com/a-/AOh14GgH5UyRuGmim7OxyboKewxBSkjbnJAN1O7jJ_Wv=s64",
      "userId": "16393263346339414704"
     },
     "user_tz": -120
    },
    "id": "KDhWgO56ForR",
    "outputId": "db4a7155-baae-49fc-a304-75a5301459d7"
   },
   "outputs": [],
   "source": [
    "!git status"
   ]
  },
  {
   "cell_type": "code",
   "execution_count": null,
   "metadata": {
    "id": "0orJO4HcFsah"
   },
   "outputs": [],
   "source": [
    "!git add ."
   ]
  },
  {
   "cell_type": "code",
   "execution_count": null,
   "metadata": {
    "colab": {
     "base_uri": "https://localhost:8080/"
    },
    "executionInfo": {
     "elapsed": 932,
     "status": "ok",
     "timestamp": 1618733423822,
     "user": {
      "displayName": "Temiloluwa Ojo",
      "photoUrl": "https://lh3.googleusercontent.com/a-/AOh14GgH5UyRuGmim7OxyboKewxBSkjbnJAN1O7jJ_Wv=s64",
      "userId": "16393263346339414704"
     },
     "user_tz": -120
    },
    "id": "0LWTo2YrFqqA",
    "outputId": "56b0df4d-79c2-4f7f-b26d-6d940bc711b8"
   },
   "outputs": [],
   "source": [
    "!git commit -m \"add data version tracking\""
   ]
  },
  {
   "cell_type": "code",
   "execution_count": null,
   "metadata": {
    "colab": {
     "base_uri": "https://localhost:8080/"
    },
    "executionInfo": {
     "elapsed": 466,
     "status": "ok",
     "timestamp": 1618733432770,
     "user": {
      "displayName": "Temiloluwa Ojo",
      "photoUrl": "https://lh3.googleusercontent.com/a-/AOh14GgH5UyRuGmim7OxyboKewxBSkjbnJAN1O7jJ_Wv=s64",
      "userId": "16393263346339414704"
     },
     "user_tz": -120
    },
    "id": "jFvRlZ7BB8Vd",
    "outputId": "4bd6fb6e-5e4d-4eaa-84e8-987a0a9c3cfc"
   },
   "outputs": [],
   "source": [
    "!git status"
   ]
  },
  {
   "cell_type": "markdown",
   "metadata": {
    "id": "zFyKh3wttefA"
   },
   "source": [
    "### Running the converted Script"
   ]
  },
  {
   "cell_type": "markdown",
   "metadata": {
    "id": "ZXVdXDfsL9Ng"
   },
   "source": [
    "Open the train.py file  and comment all lines containing a **get_ipython** call or invocation "
   ]
  },
  {
   "cell_type": "code",
   "execution_count": null,
   "metadata": {
    "colab": {
     "base_uri": "https://localhost:8080/"
    },
    "executionInfo": {
     "elapsed": 520,
     "status": "ok",
     "timestamp": 1618733019954,
     "user": {
      "displayName": "Temiloluwa Ojo",
      "photoUrl": "https://lh3.googleusercontent.com/a-/AOh14GgH5UyRuGmim7OxyboKewxBSkjbnJAN1O7jJ_Wv=s64",
      "userId": "16393263346339414704"
     },
     "user_tz": -120
    },
    "id": "J-LX0oSNA_Ng",
    "outputId": "575ef2ef-bc27-4a39-b1ab-fa8554f50b30"
   },
   "outputs": [],
   "source": [
    "%cd /content/drive/My Drive/Introduction2DataScience/exercises/sit_w2d2_ml_engineering_assignment/src/"
   ]
  },
  {
   "cell_type": "code",
   "execution_count": null,
   "metadata": {
    "colab": {
     "base_uri": "https://localhost:8080/"
    },
    "executionInfo": {
     "elapsed": 67146,
     "status": "ok",
     "timestamp": 1618732232662,
     "user": {
      "displayName": "Temiloluwa Ojo",
      "photoUrl": "https://lh3.googleusercontent.com/a-/AOh14GgH5UyRuGmim7OxyboKewxBSkjbnJAN1O7jJ_Wv=s64",
      "userId": "16393263346339414704"
     },
     "user_tz": -120
    },
    "id": "aaB6epOKBCdc",
    "outputId": "969f3cab-b342-4dcf-e76a-727d653ae7ae"
   },
   "outputs": [],
   "source": [
    "!sudo apt-get install build-essential swig\n",
    "!curl https://raw.githubusercontent.com/automl/auto-sklearn/master/requirements.txt | xargs -n 1 -L 1 pip install\n",
    "!pip install auto-sklearn\n",
    "!pip install pipelineprofiler \n",
    "!pip install shap\n",
    "!pip install --upgrade plotly\n",
    "!pip3 install -U scikit-learn\n",
    "!pip install -U matplotlib"
   ]
  },
  {
   "cell_type": "code",
   "execution_count": null,
   "metadata": {
    "colab": {
     "base_uri": "https://localhost:8080/"
    },
    "executionInfo": {
     "elapsed": 691612,
     "status": "ok",
     "timestamp": 1618732952926,
     "user": {
      "displayName": "Temiloluwa Ojo",
      "photoUrl": "https://lh3.googleusercontent.com/a-/AOh14GgH5UyRuGmim7OxyboKewxBSkjbnJAN1O7jJ_Wv=s64",
      "userId": "16393263346339414704"
     },
     "user_tz": -120
    },
    "id": "ysDKCyQbBFaT",
    "outputId": "6d242aca-d4b3-45fd-ba6c-2f26cb9b1123"
   },
   "outputs": [],
   "source": [
    "# before running this cell, you must restart the runtime then navigate to the src directory again.\n",
    "# just restart the runtime then go to the cell before the one above and run\n",
    "!python train.py "
   ]
  },
  {
   "cell_type": "markdown",
   "metadata": {
    "id": "h11ix0U8Fs5J"
   },
   "source": [
    "### Linking to Github"
   ]
  },
  {
   "cell_type": "code",
   "execution_count": null,
   "metadata": {
    "executionInfo": {
     "elapsed": 948,
     "status": "ok",
     "timestamp": 1618922706645,
     "user": {
      "displayName": "Temiloluwa Ojo",
      "photoUrl": "https://lh3.googleusercontent.com/a-/AOh14GgH5UyRuGmim7OxyboKewxBSkjbnJAN1O7jJ_Wv=s64",
      "userId": "16393263346339414704"
     },
     "user_tz": -120
    },
    "id": "Tf3Uozg7FvTJ"
   },
   "outputs": [],
   "source": [
    "# replace with the repository you created and the token generated.\n",
    "import os\n",
    "TOKEN = os.environ.get(\"GITHUBTOKEN\", \"err\")\n",
    "!git remote add origin https://TOKEN@github.com/jafarbadour/DS_SIT.git"
   ]
  },
  {
   "cell_type": "code",
   "execution_count": null,
   "metadata": {
    "colab": {
     "base_uri": "https://localhost:8080/",
     "height": 130
    },
    "executionInfo": {
     "elapsed": 402,
     "status": "error",
     "timestamp": 1618922728152,
     "user": {
      "displayName": "Temiloluwa Ojo",
      "photoUrl": "https://lh3.googleusercontent.com/a-/AOh14GgH5UyRuGmim7OxyboKewxBSkjbnJAN1O7jJ_Wv=s64",
      "userId": "16393263346339414704"
     },
     "user_tz": -120
    },
    "id": "ubHEPsdHUEAd",
    "outputId": "59edb680-7270-4982-a837-559648a7d4c3"
   },
   "outputs": [],
   "source": [
    "!git branch -M main"
   ]
  },
  {
   "cell_type": "code",
   "execution_count": null,
   "metadata": {
    "id": "2EWwBNfNGDIB"
   },
   "outputs": [],
   "source": [
    "!git push origin master"
   ]
  }
 ],
 "metadata": {
  "colab": {
   "authorship_tag": "ABX9TyOCHNx2pyLE/G6VmPS0egzf",
   "collapsed_sections": [
    "glBEp0CnBJwF",
    "zFyKh3wttefA"
   ],
   "history_visible": true,
   "name": "SIT_W2D2_Assignment_development_workflow.ipynb",
   "provenance": []
  },
  "kernelspec": {
   "display_name": "Python 3 (ipykernel)",
   "language": "python",
   "name": "python3"
  },
  "language_info": {
   "codemirror_mode": {
    "name": "ipython",
    "version": 3
   },
   "file_extension": ".py",
   "mimetype": "text/x-python",
   "name": "python",
   "nbconvert_exporter": "python",
   "pygments_lexer": "ipython3",
   "version": "3.8.8"
  }
 },
 "nbformat": 4,
 "nbformat_minor": 4
}
